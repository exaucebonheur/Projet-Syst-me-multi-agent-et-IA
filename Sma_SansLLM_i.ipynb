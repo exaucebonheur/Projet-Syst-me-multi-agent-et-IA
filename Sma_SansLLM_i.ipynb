{
  "nbformat": 4,
  "nbformat_minor": 0,
  "metadata": {
    "colab": {
      "provenance": []
    },
    "kernelspec": {
      "name": "python3",
      "display_name": "Python 3"
    },
    "language_info": {
      "name": "python"
    }
  },
  "cells": [
    {
      "cell_type": "code",
      "execution_count": 1,
      "metadata": {
        "colab": {
          "base_uri": "https://localhost:8080/"
        },
        "id": "J48NnwQ9329e",
        "outputId": "a6b9f8c3-ff7b-4fce-90d5-65f9e038506c"
      },
      "outputs": [
        {
          "output_type": "stream",
          "name": "stdout",
          "text": [
            "Requirement already satisfied: matplotlib in /usr/local/lib/python3.11/dist-packages (3.10.0)\n",
            "Requirement already satisfied: contourpy>=1.0.1 in /usr/local/lib/python3.11/dist-packages (from matplotlib) (1.3.1)\n",
            "Requirement already satisfied: cycler>=0.10 in /usr/local/lib/python3.11/dist-packages (from matplotlib) (0.12.1)\n",
            "Requirement already satisfied: fonttools>=4.22.0 in /usr/local/lib/python3.11/dist-packages (from matplotlib) (4.57.0)\n",
            "Requirement already satisfied: kiwisolver>=1.3.1 in /usr/local/lib/python3.11/dist-packages (from matplotlib) (1.4.8)\n",
            "Requirement already satisfied: numpy>=1.23 in /usr/local/lib/python3.11/dist-packages (from matplotlib) (2.0.2)\n",
            "Requirement already satisfied: packaging>=20.0 in /usr/local/lib/python3.11/dist-packages (from matplotlib) (24.2)\n",
            "Requirement already satisfied: pillow>=8 in /usr/local/lib/python3.11/dist-packages (from matplotlib) (11.1.0)\n",
            "Requirement already satisfied: pyparsing>=2.3.1 in /usr/local/lib/python3.11/dist-packages (from matplotlib) (3.2.3)\n",
            "Requirement already satisfied: python-dateutil>=2.7 in /usr/local/lib/python3.11/dist-packages (from matplotlib) (2.8.2)\n",
            "Requirement already satisfied: six>=1.5 in /usr/local/lib/python3.11/dist-packages (from python-dateutil>=2.7->matplotlib) (1.17.0)\n"
          ]
        }
      ],
      "source": [
        "!pip install matplotlib"
      ]
    },
    {
      "cell_type": "code",
      "source": [
        "!pip install mesa==2.1.0"
      ],
      "metadata": {
        "colab": {
          "base_uri": "https://localhost:8080/"
        },
        "id": "v_QSi2rK4MwO",
        "outputId": "f699355f-b805-4707-f8eb-b334e7ae002a"
      },
      "execution_count": 2,
      "outputs": [
        {
          "output_type": "stream",
          "name": "stdout",
          "text": [
            "Collecting mesa==2.1.0\n",
            "  Downloading Mesa-2.1-py3-none-any.whl.metadata (7.4 kB)\n",
            "Requirement already satisfied: click in /usr/local/lib/python3.11/dist-packages (from mesa==2.1.0) (8.1.8)\n",
            "Collecting cookiecutter (from mesa==2.1.0)\n",
            "  Downloading cookiecutter-2.6.0-py3-none-any.whl.metadata (7.3 kB)\n",
            "Requirement already satisfied: networkx in /usr/local/lib/python3.11/dist-packages (from mesa==2.1.0) (3.4.2)\n",
            "Requirement already satisfied: numpy in /usr/local/lib/python3.11/dist-packages (from mesa==2.1.0) (2.0.2)\n",
            "Requirement already satisfied: pandas in /usr/local/lib/python3.11/dist-packages (from mesa==2.1.0) (2.2.2)\n",
            "Collecting solara (from mesa==2.1.0)\n",
            "  Downloading solara-1.44.1-py2.py3-none-any.whl.metadata (10 kB)\n",
            "Requirement already satisfied: tornado in /usr/local/lib/python3.11/dist-packages (from mesa==2.1.0) (6.4.2)\n",
            "Requirement already satisfied: tqdm in /usr/local/lib/python3.11/dist-packages (from mesa==2.1.0) (4.67.1)\n",
            "Collecting binaryornot>=0.4.4 (from cookiecutter->mesa==2.1.0)\n",
            "  Downloading binaryornot-0.4.4-py2.py3-none-any.whl.metadata (6.0 kB)\n",
            "Requirement already satisfied: Jinja2<4.0.0,>=2.7 in /usr/local/lib/python3.11/dist-packages (from cookiecutter->mesa==2.1.0) (3.1.6)\n",
            "Requirement already satisfied: pyyaml>=5.3.1 in /usr/local/lib/python3.11/dist-packages (from cookiecutter->mesa==2.1.0) (6.0.2)\n",
            "Requirement already satisfied: python-slugify>=4.0.0 in /usr/local/lib/python3.11/dist-packages (from cookiecutter->mesa==2.1.0) (8.0.4)\n",
            "Requirement already satisfied: requests>=2.23.0 in /usr/local/lib/python3.11/dist-packages (from cookiecutter->mesa==2.1.0) (2.32.3)\n",
            "Collecting arrow (from cookiecutter->mesa==2.1.0)\n",
            "  Downloading arrow-1.3.0-py3-none-any.whl.metadata (7.5 kB)\n",
            "Requirement already satisfied: rich in /usr/local/lib/python3.11/dist-packages (from cookiecutter->mesa==2.1.0) (13.9.4)\n",
            "Requirement already satisfied: python-dateutil>=2.8.2 in /usr/local/lib/python3.11/dist-packages (from pandas->mesa==2.1.0) (2.8.2)\n",
            "Requirement already satisfied: pytz>=2020.1 in /usr/local/lib/python3.11/dist-packages (from pandas->mesa==2.1.0) (2025.2)\n",
            "Requirement already satisfied: tzdata>=2022.7 in /usr/local/lib/python3.11/dist-packages (from pandas->mesa==2.1.0) (2025.2)\n",
            "Collecting solara-server==1.44.1 (from solara-server[dev,starlette]==1.44.1->solara->mesa==2.1.0)\n",
            "  Downloading solara_server-1.44.1-py2.py3-none-any.whl.metadata (2.9 kB)\n",
            "Collecting solara-ui==1.44.1 (from solara-ui[all]==1.44.1->solara->mesa==2.1.0)\n",
            "  Downloading solara_ui-1.44.1-py2.py3-none-any.whl.metadata (7.4 kB)\n",
            "Requirement already satisfied: filelock in /usr/local/lib/python3.11/dist-packages (from solara-server==1.44.1->solara-server[dev,starlette]==1.44.1->solara->mesa==2.1.0) (3.18.0)\n",
            "Requirement already satisfied: ipykernel in /usr/local/lib/python3.11/dist-packages (from solara-server==1.44.1->solara-server[dev,starlette]==1.44.1->solara->mesa==2.1.0) (6.17.1)\n",
            "Requirement already satisfied: jupyter-client in /usr/local/lib/python3.11/dist-packages (from solara-server==1.44.1->solara-server[dev,starlette]==1.44.1->solara->mesa==2.1.0) (6.1.12)\n",
            "Requirement already satisfied: nbformat in /usr/local/lib/python3.11/dist-packages (from solara-server==1.44.1->solara-server[dev,starlette]==1.44.1->solara->mesa==2.1.0) (5.10.4)\n",
            "Collecting rich-click (from solara-server==1.44.1->solara-server[dev,starlette]==1.44.1->solara->mesa==2.1.0)\n",
            "  Downloading rich_click-1.8.8-py3-none-any.whl.metadata (7.9 kB)\n",
            "Collecting watchdog (from solara-server[dev,starlette]==1.44.1->solara->mesa==2.1.0)\n",
            "  Downloading watchdog-6.0.0-py3-none-manylinux2014_x86_64.whl.metadata (44 kB)\n",
            "\u001b[2K     \u001b[90m━━━━━━━━━━━━━━━━━━━━━━━━━━━━━━━━━━━━━━━\u001b[0m \u001b[32m44.3/44.3 kB\u001b[0m \u001b[31m721.5 kB/s\u001b[0m eta \u001b[36m0:00:00\u001b[0m\n",
            "\u001b[?25hCollecting watchfiles (from solara-server[dev,starlette]==1.44.1->solara->mesa==2.1.0)\n",
            "  Downloading watchfiles-1.0.5-cp311-cp311-manylinux_2_17_x86_64.manylinux2014_x86_64.whl.metadata (4.9 kB)\n",
            "Collecting starlette (from solara-server[dev,starlette]==1.44.1->solara->mesa==2.1.0)\n",
            "  Downloading starlette-0.46.1-py3-none-any.whl.metadata (6.2 kB)\n",
            "Collecting uvicorn (from solara-server[dev,starlette]==1.44.1->solara->mesa==2.1.0)\n",
            "  Downloading uvicorn-0.34.0-py3-none-any.whl.metadata (6.5 kB)\n",
            "Requirement already satisfied: websockets in /usr/local/lib/python3.11/dist-packages (from solara-server[dev,starlette]==1.44.1->solara->mesa==2.1.0) (15.0.1)\n",
            "Requirement already satisfied: humanize in /usr/local/lib/python3.11/dist-packages (from solara-ui==1.44.1->solara-ui[all]==1.44.1->solara->mesa==2.1.0) (4.12.2)\n",
            "Collecting ipyvue>=1.9.0 (from solara-ui==1.44.1->solara-ui[all]==1.44.1->solara->mesa==2.1.0)\n",
            "  Downloading ipyvue-1.11.2-py2.py3-none-any.whl.metadata (1.1 kB)\n",
            "Collecting ipyvuetify>=1.6.10 (from solara-ui==1.44.1->solara-ui[all]==1.44.1->solara->mesa==2.1.0)\n",
            "  Downloading ipyvuetify-1.11.1-py2.py3-none-any.whl.metadata (7.5 kB)\n",
            "Requirement already satisfied: ipywidgets>=7.7 in /usr/local/lib/python3.11/dist-packages (from solara-ui==1.44.1->solara-ui[all]==1.44.1->solara->mesa==2.1.0) (7.7.1)\n",
            "Collecting reacton>=1.9 (from solara-ui==1.44.1->solara-ui[all]==1.44.1->solara->mesa==2.1.0)\n",
            "  Downloading reacton-1.9.1-py2.py3-none-any.whl.metadata (3.1 kB)\n",
            "Requirement already satisfied: cachetools in /usr/local/lib/python3.11/dist-packages (from solara-ui[all]==1.44.1->solara->mesa==2.1.0) (5.5.2)\n",
            "Requirement already satisfied: markdown in /usr/local/lib/python3.11/dist-packages (from solara-ui[all]==1.44.1->solara->mesa==2.1.0) (3.7)\n",
            "Requirement already satisfied: pillow in /usr/local/lib/python3.11/dist-packages (from solara-ui[all]==1.44.1->solara->mesa==2.1.0) (11.1.0)\n",
            "Requirement already satisfied: pygments in /usr/local/lib/python3.11/dist-packages (from solara-ui[all]==1.44.1->solara->mesa==2.1.0) (2.18.0)\n",
            "Collecting pymdown-extensions (from solara-ui[all]==1.44.1->solara->mesa==2.1.0)\n",
            "  Downloading pymdown_extensions-10.14.3-py3-none-any.whl.metadata (3.0 kB)\n",
            "Requirement already satisfied: chardet>=3.0.2 in /usr/local/lib/python3.11/dist-packages (from binaryornot>=0.4.4->cookiecutter->mesa==2.1.0) (5.2.0)\n",
            "Requirement already satisfied: MarkupSafe>=2.0 in /usr/local/lib/python3.11/dist-packages (from Jinja2<4.0.0,>=2.7->cookiecutter->mesa==2.1.0) (3.0.2)\n",
            "Requirement already satisfied: six>=1.5 in /usr/local/lib/python3.11/dist-packages (from python-dateutil>=2.8.2->pandas->mesa==2.1.0) (1.17.0)\n",
            "Requirement already satisfied: text-unidecode>=1.3 in /usr/local/lib/python3.11/dist-packages (from python-slugify>=4.0.0->cookiecutter->mesa==2.1.0) (1.3)\n",
            "Requirement already satisfied: charset-normalizer<4,>=2 in /usr/local/lib/python3.11/dist-packages (from requests>=2.23.0->cookiecutter->mesa==2.1.0) (3.4.1)\n",
            "Requirement already satisfied: idna<4,>=2.5 in /usr/local/lib/python3.11/dist-packages (from requests>=2.23.0->cookiecutter->mesa==2.1.0) (3.10)\n",
            "Requirement already satisfied: urllib3<3,>=1.21.1 in /usr/local/lib/python3.11/dist-packages (from requests>=2.23.0->cookiecutter->mesa==2.1.0) (2.3.0)\n",
            "Requirement already satisfied: certifi>=2017.4.17 in /usr/local/lib/python3.11/dist-packages (from requests>=2.23.0->cookiecutter->mesa==2.1.0) (2025.1.31)\n",
            "Collecting types-python-dateutil>=2.8.10 (from arrow->cookiecutter->mesa==2.1.0)\n",
            "  Downloading types_python_dateutil-2.9.0.20241206-py3-none-any.whl.metadata (2.1 kB)\n",
            "Requirement already satisfied: markdown-it-py>=2.2.0 in /usr/local/lib/python3.11/dist-packages (from rich->cookiecutter->mesa==2.1.0) (3.0.0)\n",
            "Requirement already satisfied: ipython-genutils~=0.2.0 in /usr/local/lib/python3.11/dist-packages (from ipywidgets>=7.7->solara-ui==1.44.1->solara-ui[all]==1.44.1->solara->mesa==2.1.0) (0.2.0)\n",
            "Requirement already satisfied: traitlets>=4.3.1 in /usr/local/lib/python3.11/dist-packages (from ipywidgets>=7.7->solara-ui==1.44.1->solara-ui[all]==1.44.1->solara->mesa==2.1.0) (5.7.1)\n",
            "Requirement already satisfied: widgetsnbextension~=3.6.0 in /usr/local/lib/python3.11/dist-packages (from ipywidgets>=7.7->solara-ui==1.44.1->solara-ui[all]==1.44.1->solara->mesa==2.1.0) (3.6.10)\n",
            "Requirement already satisfied: ipython>=4.0.0 in /usr/local/lib/python3.11/dist-packages (from ipywidgets>=7.7->solara-ui==1.44.1->solara-ui[all]==1.44.1->solara->mesa==2.1.0) (7.34.0)\n",
            "Requirement already satisfied: jupyterlab-widgets>=1.0.0 in /usr/local/lib/python3.11/dist-packages (from ipywidgets>=7.7->solara-ui==1.44.1->solara-ui[all]==1.44.1->solara->mesa==2.1.0) (3.0.13)\n",
            "Requirement already satisfied: debugpy>=1.0 in /usr/local/lib/python3.11/dist-packages (from ipykernel->solara-server==1.44.1->solara-server[dev,starlette]==1.44.1->solara->mesa==2.1.0) (1.8.0)\n",
            "Requirement already satisfied: matplotlib-inline>=0.1 in /usr/local/lib/python3.11/dist-packages (from ipykernel->solara-server==1.44.1->solara-server[dev,starlette]==1.44.1->solara->mesa==2.1.0) (0.1.7)\n",
            "Requirement already satisfied: nest-asyncio in /usr/local/lib/python3.11/dist-packages (from ipykernel->solara-server==1.44.1->solara-server[dev,starlette]==1.44.1->solara->mesa==2.1.0) (1.6.0)\n",
            "Requirement already satisfied: packaging in /usr/local/lib/python3.11/dist-packages (from ipykernel->solara-server==1.44.1->solara-server[dev,starlette]==1.44.1->solara->mesa==2.1.0) (24.2)\n",
            "Requirement already satisfied: psutil in /usr/local/lib/python3.11/dist-packages (from ipykernel->solara-server==1.44.1->solara-server[dev,starlette]==1.44.1->solara->mesa==2.1.0) (5.9.5)\n",
            "Requirement already satisfied: pyzmq>=17 in /usr/local/lib/python3.11/dist-packages (from ipykernel->solara-server==1.44.1->solara-server[dev,starlette]==1.44.1->solara->mesa==2.1.0) (24.0.1)\n",
            "Requirement already satisfied: jupyter-core>=4.6.0 in /usr/local/lib/python3.11/dist-packages (from jupyter-client->solara-server==1.44.1->solara-server[dev,starlette]==1.44.1->solara->mesa==2.1.0) (5.7.2)\n",
            "Requirement already satisfied: mdurl~=0.1 in /usr/local/lib/python3.11/dist-packages (from markdown-it-py>=2.2.0->rich->cookiecutter->mesa==2.1.0) (0.1.2)\n",
            "Requirement already satisfied: typing-extensions>=4.1.1 in /usr/local/lib/python3.11/dist-packages (from reacton>=1.9->solara-ui==1.44.1->solara-ui[all]==1.44.1->solara->mesa==2.1.0) (4.13.1)\n",
            "Requirement already satisfied: fastjsonschema>=2.15 in /usr/local/lib/python3.11/dist-packages (from nbformat->solara-server==1.44.1->solara-server[dev,starlette]==1.44.1->solara->mesa==2.1.0) (2.21.1)\n",
            "Requirement already satisfied: jsonschema>=2.6 in /usr/local/lib/python3.11/dist-packages (from nbformat->solara-server==1.44.1->solara-server[dev,starlette]==1.44.1->solara->mesa==2.1.0) (4.23.0)\n",
            "Requirement already satisfied: anyio<5,>=3.6.2 in /usr/local/lib/python3.11/dist-packages (from starlette->solara-server[dev,starlette]==1.44.1->solara->mesa==2.1.0) (4.9.0)\n",
            "Requirement already satisfied: h11>=0.8 in /usr/local/lib/python3.11/dist-packages (from uvicorn->solara-server[dev,starlette]==1.44.1->solara->mesa==2.1.0) (0.14.0)\n",
            "Requirement already satisfied: sniffio>=1.1 in /usr/local/lib/python3.11/dist-packages (from anyio<5,>=3.6.2->starlette->solara-server[dev,starlette]==1.44.1->solara->mesa==2.1.0) (1.3.1)\n",
            "Requirement already satisfied: setuptools>=18.5 in /usr/local/lib/python3.11/dist-packages (from ipython>=4.0.0->ipywidgets>=7.7->solara-ui==1.44.1->solara-ui[all]==1.44.1->solara->mesa==2.1.0) (75.2.0)\n",
            "Collecting jedi>=0.16 (from ipython>=4.0.0->ipywidgets>=7.7->solara-ui==1.44.1->solara-ui[all]==1.44.1->solara->mesa==2.1.0)\n",
            "  Downloading jedi-0.19.2-py2.py3-none-any.whl.metadata (22 kB)\n",
            "Requirement already satisfied: decorator in /usr/local/lib/python3.11/dist-packages (from ipython>=4.0.0->ipywidgets>=7.7->solara-ui==1.44.1->solara-ui[all]==1.44.1->solara->mesa==2.1.0) (4.4.2)\n",
            "Requirement already satisfied: pickleshare in /usr/local/lib/python3.11/dist-packages (from ipython>=4.0.0->ipywidgets>=7.7->solara-ui==1.44.1->solara-ui[all]==1.44.1->solara->mesa==2.1.0) (0.7.5)\n",
            "Requirement already satisfied: prompt-toolkit!=3.0.0,!=3.0.1,<3.1.0,>=2.0.0 in /usr/local/lib/python3.11/dist-packages (from ipython>=4.0.0->ipywidgets>=7.7->solara-ui==1.44.1->solara-ui[all]==1.44.1->solara->mesa==2.1.0) (3.0.50)\n",
            "Requirement already satisfied: backcall in /usr/local/lib/python3.11/dist-packages (from ipython>=4.0.0->ipywidgets>=7.7->solara-ui==1.44.1->solara-ui[all]==1.44.1->solara->mesa==2.1.0) (0.2.0)\n",
            "Requirement already satisfied: pexpect>4.3 in /usr/local/lib/python3.11/dist-packages (from ipython>=4.0.0->ipywidgets>=7.7->solara-ui==1.44.1->solara-ui[all]==1.44.1->solara->mesa==2.1.0) (4.9.0)\n",
            "Requirement already satisfied: attrs>=22.2.0 in /usr/local/lib/python3.11/dist-packages (from jsonschema>=2.6->nbformat->solara-server==1.44.1->solara-server[dev,starlette]==1.44.1->solara->mesa==2.1.0) (25.3.0)\n",
            "Requirement already satisfied: jsonschema-specifications>=2023.03.6 in /usr/local/lib/python3.11/dist-packages (from jsonschema>=2.6->nbformat->solara-server==1.44.1->solara-server[dev,starlette]==1.44.1->solara->mesa==2.1.0) (2024.10.1)\n",
            "Requirement already satisfied: referencing>=0.28.4 in /usr/local/lib/python3.11/dist-packages (from jsonschema>=2.6->nbformat->solara-server==1.44.1->solara-server[dev,starlette]==1.44.1->solara->mesa==2.1.0) (0.36.2)\n",
            "Requirement already satisfied: rpds-py>=0.7.1 in /usr/local/lib/python3.11/dist-packages (from jsonschema>=2.6->nbformat->solara-server==1.44.1->solara-server[dev,starlette]==1.44.1->solara->mesa==2.1.0) (0.24.0)\n",
            "Requirement already satisfied: platformdirs>=2.5 in /usr/local/lib/python3.11/dist-packages (from jupyter-core>=4.6.0->jupyter-client->solara-server==1.44.1->solara-server[dev,starlette]==1.44.1->solara->mesa==2.1.0) (4.3.7)\n",
            "Requirement already satisfied: notebook>=4.4.1 in /usr/local/lib/python3.11/dist-packages (from widgetsnbextension~=3.6.0->ipywidgets>=7.7->solara-ui==1.44.1->solara-ui[all]==1.44.1->solara->mesa==2.1.0) (6.5.7)\n",
            "Requirement already satisfied: parso<0.9.0,>=0.8.4 in /usr/local/lib/python3.11/dist-packages (from jedi>=0.16->ipython>=4.0.0->ipywidgets>=7.7->solara-ui==1.44.1->solara-ui[all]==1.44.1->solara->mesa==2.1.0) (0.8.4)\n",
            "Requirement already satisfied: argon2-cffi in /usr/local/lib/python3.11/dist-packages (from notebook>=4.4.1->widgetsnbextension~=3.6.0->ipywidgets>=7.7->solara-ui==1.44.1->solara-ui[all]==1.44.1->solara->mesa==2.1.0) (23.1.0)\n",
            "Requirement already satisfied: nbconvert>=5 in /usr/local/lib/python3.11/dist-packages (from notebook>=4.4.1->widgetsnbextension~=3.6.0->ipywidgets>=7.7->solara-ui==1.44.1->solara-ui[all]==1.44.1->solara->mesa==2.1.0) (7.16.6)\n",
            "Requirement already satisfied: Send2Trash>=1.8.0 in /usr/local/lib/python3.11/dist-packages (from notebook>=4.4.1->widgetsnbextension~=3.6.0->ipywidgets>=7.7->solara-ui==1.44.1->solara-ui[all]==1.44.1->solara->mesa==2.1.0) (1.8.3)\n",
            "Requirement already satisfied: terminado>=0.8.3 in /usr/local/lib/python3.11/dist-packages (from notebook>=4.4.1->widgetsnbextension~=3.6.0->ipywidgets>=7.7->solara-ui==1.44.1->solara-ui[all]==1.44.1->solara->mesa==2.1.0) (0.18.1)\n",
            "Requirement already satisfied: prometheus-client in /usr/local/lib/python3.11/dist-packages (from notebook>=4.4.1->widgetsnbextension~=3.6.0->ipywidgets>=7.7->solara-ui==1.44.1->solara-ui[all]==1.44.1->solara->mesa==2.1.0) (0.21.1)\n",
            "Requirement already satisfied: nbclassic>=0.4.7 in /usr/local/lib/python3.11/dist-packages (from notebook>=4.4.1->widgetsnbextension~=3.6.0->ipywidgets>=7.7->solara-ui==1.44.1->solara-ui[all]==1.44.1->solara->mesa==2.1.0) (1.2.0)\n",
            "Requirement already satisfied: ptyprocess>=0.5 in /usr/local/lib/python3.11/dist-packages (from pexpect>4.3->ipython>=4.0.0->ipywidgets>=7.7->solara-ui==1.44.1->solara-ui[all]==1.44.1->solara->mesa==2.1.0) (0.7.0)\n",
            "Requirement already satisfied: wcwidth in /usr/local/lib/python3.11/dist-packages (from prompt-toolkit!=3.0.0,!=3.0.1,<3.1.0,>=2.0.0->ipython>=4.0.0->ipywidgets>=7.7->solara-ui==1.44.1->solara-ui[all]==1.44.1->solara->mesa==2.1.0) (0.2.13)\n",
            "Requirement already satisfied: notebook-shim>=0.2.3 in /usr/local/lib/python3.11/dist-packages (from nbclassic>=0.4.7->notebook>=4.4.1->widgetsnbextension~=3.6.0->ipywidgets>=7.7->solara-ui==1.44.1->solara-ui[all]==1.44.1->solara->mesa==2.1.0) (0.2.4)\n",
            "Requirement already satisfied: beautifulsoup4 in /usr/local/lib/python3.11/dist-packages (from nbconvert>=5->notebook>=4.4.1->widgetsnbextension~=3.6.0->ipywidgets>=7.7->solara-ui==1.44.1->solara-ui[all]==1.44.1->solara->mesa==2.1.0) (4.13.3)\n",
            "Requirement already satisfied: bleach!=5.0.0 in /usr/local/lib/python3.11/dist-packages (from bleach[css]!=5.0.0->nbconvert>=5->notebook>=4.4.1->widgetsnbextension~=3.6.0->ipywidgets>=7.7->solara-ui==1.44.1->solara-ui[all]==1.44.1->solara->mesa==2.1.0) (6.2.0)\n",
            "Requirement already satisfied: defusedxml in /usr/local/lib/python3.11/dist-packages (from nbconvert>=5->notebook>=4.4.1->widgetsnbextension~=3.6.0->ipywidgets>=7.7->solara-ui==1.44.1->solara-ui[all]==1.44.1->solara->mesa==2.1.0) (0.7.1)\n",
            "Requirement already satisfied: jupyterlab-pygments in /usr/local/lib/python3.11/dist-packages (from nbconvert>=5->notebook>=4.4.1->widgetsnbextension~=3.6.0->ipywidgets>=7.7->solara-ui==1.44.1->solara-ui[all]==1.44.1->solara->mesa==2.1.0) (0.3.0)\n",
            "Requirement already satisfied: mistune<4,>=2.0.3 in /usr/local/lib/python3.11/dist-packages (from nbconvert>=5->notebook>=4.4.1->widgetsnbextension~=3.6.0->ipywidgets>=7.7->solara-ui==1.44.1->solara-ui[all]==1.44.1->solara->mesa==2.1.0) (3.1.3)\n",
            "Requirement already satisfied: nbclient>=0.5.0 in /usr/local/lib/python3.11/dist-packages (from nbconvert>=5->notebook>=4.4.1->widgetsnbextension~=3.6.0->ipywidgets>=7.7->solara-ui==1.44.1->solara-ui[all]==1.44.1->solara->mesa==2.1.0) (0.10.2)\n",
            "Requirement already satisfied: pandocfilters>=1.4.1 in /usr/local/lib/python3.11/dist-packages (from nbconvert>=5->notebook>=4.4.1->widgetsnbextension~=3.6.0->ipywidgets>=7.7->solara-ui==1.44.1->solara-ui[all]==1.44.1->solara->mesa==2.1.0) (1.5.1)\n",
            "Requirement already satisfied: argon2-cffi-bindings in /usr/local/lib/python3.11/dist-packages (from argon2-cffi->notebook>=4.4.1->widgetsnbextension~=3.6.0->ipywidgets>=7.7->solara-ui==1.44.1->solara-ui[all]==1.44.1->solara->mesa==2.1.0) (21.2.0)\n",
            "Requirement already satisfied: webencodings in /usr/local/lib/python3.11/dist-packages (from bleach!=5.0.0->bleach[css]!=5.0.0->nbconvert>=5->notebook>=4.4.1->widgetsnbextension~=3.6.0->ipywidgets>=7.7->solara-ui==1.44.1->solara-ui[all]==1.44.1->solara->mesa==2.1.0) (0.5.1)\n",
            "Requirement already satisfied: tinycss2<1.5,>=1.1.0 in /usr/local/lib/python3.11/dist-packages (from bleach[css]!=5.0.0->nbconvert>=5->notebook>=4.4.1->widgetsnbextension~=3.6.0->ipywidgets>=7.7->solara-ui==1.44.1->solara-ui[all]==1.44.1->solara->mesa==2.1.0) (1.4.0)\n",
            "Requirement already satisfied: jupyter-server<3,>=1.8 in /usr/local/lib/python3.11/dist-packages (from notebook-shim>=0.2.3->nbclassic>=0.4.7->notebook>=4.4.1->widgetsnbextension~=3.6.0->ipywidgets>=7.7->solara-ui==1.44.1->solara-ui[all]==1.44.1->solara->mesa==2.1.0) (1.16.0)\n",
            "Requirement already satisfied: cffi>=1.0.1 in /usr/local/lib/python3.11/dist-packages (from argon2-cffi-bindings->argon2-cffi->notebook>=4.4.1->widgetsnbextension~=3.6.0->ipywidgets>=7.7->solara-ui==1.44.1->solara-ui[all]==1.44.1->solara->mesa==2.1.0) (1.17.1)\n",
            "Requirement already satisfied: soupsieve>1.2 in /usr/local/lib/python3.11/dist-packages (from beautifulsoup4->nbconvert>=5->notebook>=4.4.1->widgetsnbextension~=3.6.0->ipywidgets>=7.7->solara-ui==1.44.1->solara-ui[all]==1.44.1->solara->mesa==2.1.0) (2.6)\n",
            "Requirement already satisfied: pycparser in /usr/local/lib/python3.11/dist-packages (from cffi>=1.0.1->argon2-cffi-bindings->argon2-cffi->notebook>=4.4.1->widgetsnbextension~=3.6.0->ipywidgets>=7.7->solara-ui==1.44.1->solara-ui[all]==1.44.1->solara->mesa==2.1.0) (2.22)\n",
            "Requirement already satisfied: websocket-client in /usr/local/lib/python3.11/dist-packages (from jupyter-server<3,>=1.8->notebook-shim>=0.2.3->nbclassic>=0.4.7->notebook>=4.4.1->widgetsnbextension~=3.6.0->ipywidgets>=7.7->solara-ui==1.44.1->solara-ui[all]==1.44.1->solara->mesa==2.1.0) (1.8.0)\n",
            "Downloading Mesa-2.1-py3-none-any.whl (1.8 MB)\n",
            "\u001b[2K   \u001b[90m━━━━━━━━━━━━━━━━━━━━━━━━━━━━━━━━━━━━━━━━\u001b[0m \u001b[32m1.8/1.8 MB\u001b[0m \u001b[31m39.8 MB/s\u001b[0m eta \u001b[36m0:00:00\u001b[0m\n",
            "\u001b[?25hDownloading cookiecutter-2.6.0-py3-none-any.whl (39 kB)\n",
            "Downloading solara-1.44.1-py2.py3-none-any.whl (5.9 kB)\n",
            "Downloading solara_server-1.44.1-py2.py3-none-any.whl (3.9 kB)\n",
            "Downloading solara_ui-1.44.1-py2.py3-none-any.whl (1.3 MB)\n",
            "\u001b[2K   \u001b[90m━━━━━━━━━━━━━━━━━━━━━━━━━━━━━━━━━━━━━━━━\u001b[0m \u001b[32m1.3/1.3 MB\u001b[0m \u001b[31m43.2 MB/s\u001b[0m eta \u001b[36m0:00:00\u001b[0m\n",
            "\u001b[?25hDownloading binaryornot-0.4.4-py2.py3-none-any.whl (9.0 kB)\n",
            "Downloading arrow-1.3.0-py3-none-any.whl (66 kB)\n",
            "\u001b[2K   \u001b[90m━━━━━━━━━━━━━━━━━━━━━━━━━━━━━━━━━━━━━━━━\u001b[0m \u001b[32m66.4/66.4 kB\u001b[0m \u001b[31m4.4 MB/s\u001b[0m eta \u001b[36m0:00:00\u001b[0m\n",
            "\u001b[?25hDownloading ipyvue-1.11.2-py2.py3-none-any.whl (2.7 MB)\n",
            "\u001b[2K   \u001b[90m━━━━━━━━━━━━━━━━━━━━━━━━━━━━━━━━━━━━━━━━\u001b[0m \u001b[32m2.7/2.7 MB\u001b[0m \u001b[31m42.7 MB/s\u001b[0m eta \u001b[36m0:00:00\u001b[0m\n",
            "\u001b[?25hDownloading ipyvuetify-1.11.1-py2.py3-none-any.whl (7.7 MB)\n",
            "\u001b[2K   \u001b[90m━━━━━━━━━━━━━━━━━━━━━━━━━━━━━━━━━━━━━━━━\u001b[0m \u001b[32m7.7/7.7 MB\u001b[0m \u001b[31m64.8 MB/s\u001b[0m eta \u001b[36m0:00:00\u001b[0m\n",
            "\u001b[?25hDownloading reacton-1.9.1-py2.py3-none-any.whl (108 kB)\n",
            "\u001b[2K   \u001b[90m━━━━━━━━━━━━━━━━━━━━━━━━━━━━━━━━━━━━━━━━\u001b[0m \u001b[32m108.8/108.8 kB\u001b[0m \u001b[31m7.6 MB/s\u001b[0m eta \u001b[36m0:00:00\u001b[0m\n",
            "\u001b[?25hDownloading types_python_dateutil-2.9.0.20241206-py3-none-any.whl (14 kB)\n",
            "Downloading pymdown_extensions-10.14.3-py3-none-any.whl (264 kB)\n",
            "\u001b[2K   \u001b[90m━━━━━━━━━━━━━━━━━━━━━━━━━━━━━━━━━━━━━━━━\u001b[0m \u001b[32m264.5/264.5 kB\u001b[0m \u001b[31m16.6 MB/s\u001b[0m eta \u001b[36m0:00:00\u001b[0m\n",
            "\u001b[?25hDownloading rich_click-1.8.8-py3-none-any.whl (35 kB)\n",
            "Downloading starlette-0.46.1-py3-none-any.whl (71 kB)\n",
            "\u001b[2K   \u001b[90m━━━━━━━━━━━━━━━━━━━━━━━━━━━━━━━━━━━━━━━━\u001b[0m \u001b[32m72.0/72.0 kB\u001b[0m \u001b[31m4.6 MB/s\u001b[0m eta \u001b[36m0:00:00\u001b[0m\n",
            "\u001b[?25hDownloading uvicorn-0.34.0-py3-none-any.whl (62 kB)\n",
            "\u001b[2K   \u001b[90m━━━━━━━━━━━━━━━━━━━━━━━━━━━━━━━━━━━━━━━━\u001b[0m \u001b[32m62.3/62.3 kB\u001b[0m \u001b[31m3.6 MB/s\u001b[0m eta \u001b[36m0:00:00\u001b[0m\n",
            "\u001b[?25hDownloading watchdog-6.0.0-py3-none-manylinux2014_x86_64.whl (79 kB)\n",
            "\u001b[2K   \u001b[90m━━━━━━━━━━━━━━━━━━━━━━━━━━━━━━━━━━━━━━━━\u001b[0m \u001b[32m79.1/79.1 kB\u001b[0m \u001b[31m5.0 MB/s\u001b[0m eta \u001b[36m0:00:00\u001b[0m\n",
            "\u001b[?25hDownloading watchfiles-1.0.5-cp311-cp311-manylinux_2_17_x86_64.manylinux2014_x86_64.whl (454 kB)\n",
            "\u001b[2K   \u001b[90m━━━━━━━━━━━━━━━━━━━━━━━━━━━━━━━━━━━━━━━━\u001b[0m \u001b[32m454.8/454.8 kB\u001b[0m \u001b[31m25.2 MB/s\u001b[0m eta \u001b[36m0:00:00\u001b[0m\n",
            "\u001b[?25hDownloading jedi-0.19.2-py2.py3-none-any.whl (1.6 MB)\n",
            "\u001b[2K   \u001b[90m━━━━━━━━━━━━━━━━━━━━━━━━━━━━━━━━━━━━━━━━\u001b[0m \u001b[32m1.6/1.6 MB\u001b[0m \u001b[31m30.6 MB/s\u001b[0m eta \u001b[36m0:00:00\u001b[0m\n",
            "\u001b[?25hInstalling collected packages: watchdog, uvicorn, types-python-dateutil, pymdown-extensions, jedi, binaryornot, watchfiles, starlette, arrow, rich-click, cookiecutter, reacton, ipyvue, ipyvuetify, solara-ui, solara-server, solara, mesa\n",
            "Successfully installed arrow-1.3.0 binaryornot-0.4.4 cookiecutter-2.6.0 ipyvue-1.11.2 ipyvuetify-1.11.1 jedi-0.19.2 mesa-2.1 pymdown-extensions-10.14.3 reacton-1.9.1 rich-click-1.8.8 solara-1.44.1 solara-server-1.44.1 solara-ui-1.44.1 starlette-0.46.1 types-python-dateutil-2.9.0.20241206 uvicorn-0.34.0 watchdog-6.0.0 watchfiles-1.0.5\n"
          ]
        }
      ]
    },
    {
      "cell_type": "code",
      "source": [
        "from mesa import Agent, Model, time\n",
        "from mesa.space import MultiGrid\n",
        "import random\n",
        "import matplotlib.pyplot as plt"
      ],
      "metadata": {
        "id": "wokviTPJ4ECI"
      },
      "execution_count": 3,
      "outputs": []
    },
    {
      "cell_type": "code",
      "source": [
        "# Définir un agent Trader\n",
        "class Trader(Agent):\n",
        "    def __init__(self, unique_id, model):\n",
        "        super().__init__(unique_id, model)\n",
        "        self.wealth = 100\n",
        "\n",
        "    def step(self):\n",
        "        # Simuler une nouvelle du marché (aléatoire)\n",
        "        market_condition = random.choice([\"hausse\", \"baisse\", \"stable\"])\n",
        "\n",
        "        # Prendre une décision basée sur la condition du marché\n",
        "        if market_condition == \"hausse\" and self.wealth > 20:\n",
        "            print(f\"Agent {self.unique_id} décide d'acheter.\")\n",
        "            self.wealth -= 10  # Acheter\n",
        "        elif market_condition == \"baisse\" and self.wealth < 150:\n",
        "            print(f\"Agent {self.unique_id} décide de vendre.\")\n",
        "            self.wealth += 10  # Vendre\n",
        "        else:\n",
        "            print(f\"Agent {self.unique_id} décide de ne rien faire.\")\n",
        "\n",
        "# Définir le modèle de marché\n",
        "class MarketModel(Model):\n",
        "    def __init__(self, N):\n",
        "        self.num_agents = N\n",
        "        self.grid = MultiGrid(10, 10, True)\n",
        "        self.schedule = time.RandomActivation(self)\n",
        "        for i in range(self.num_agents):\n",
        "            trader = Trader(i, self)\n",
        "            self.schedule.add(trader)\n",
        "            x = random.randrange(self.grid.width)\n",
        "            y = random.randrange(self.grid.height)\n",
        "            self.grid.place_agent(trader, (x, y))\n",
        "\n",
        "    def step(self):\n",
        "        self.schedule.step()"
      ],
      "metadata": {
        "id": "0mv_kSXf5bG5"
      },
      "execution_count": 4,
      "outputs": []
    },
    {
      "cell_type": "code",
      "source": [
        "# Simulation sans LLMs\n",
        "market_model = MarketModel(10)\n",
        "for i in range(2):\n",
        "    print(f\"\\n--- Step {i+1} ---\")\n",
        "    market_model.step()\n",
        "\n",
        "# Visualisation des résultats\n",
        "wealth_values = [agent.wealth for agent in market_model.schedule.agents]\n",
        "plt.hist(wealth_values, bins=20, range=(60, 140), density=True)\n",
        "plt.title(\"Distribution de la richesse des traders (sans LLMs)\")\n",
        "plt.xlabel(\"Richesse\")\n",
        "plt.ylabel(\"Proportion de traders\")\n",
        "plt.show()"
      ],
      "metadata": {
        "colab": {
          "base_uri": "https://localhost:8080/",
          "height": 889
        },
        "id": "Jgx1apk-5bQ0",
        "outputId": "949ee5c8-e4d4-4169-f0de-9847346a31e6"
      },
      "execution_count": 7,
      "outputs": [
        {
          "output_type": "stream",
          "name": "stdout",
          "text": [
            "\n",
            "--- Step 1 ---\n",
            "Agent 9 décide de vendre.\n",
            "Agent 5 décide d'acheter.\n",
            "Agent 7 décide de ne rien faire.\n",
            "Agent 3 décide de vendre.\n",
            "Agent 2 décide de vendre.\n",
            "Agent 8 décide de vendre.\n",
            "Agent 4 décide de vendre.\n",
            "Agent 0 décide de vendre.\n",
            "Agent 1 décide d'acheter.\n",
            "Agent 6 décide de ne rien faire.\n",
            "\n",
            "--- Step 2 ---\n",
            "Agent 1 décide de ne rien faire.\n",
            "Agent 4 décide de vendre.\n",
            "Agent 5 décide de vendre.\n",
            "Agent 2 décide d'acheter.\n",
            "Agent 8 décide d'acheter.\n",
            "Agent 6 décide de ne rien faire.\n",
            "Agent 3 décide d'acheter.\n",
            "Agent 9 décide de ne rien faire.\n",
            "Agent 7 décide d'acheter.\n",
            "Agent 0 décide de ne rien faire.\n"
          ]
        },
        {
          "output_type": "display_data",
          "data": {
            "text/plain": [
              "<Figure size 640x480 with 1 Axes>"
            ],
            "image/png": "[encoded data removed]"
          },
          "metadata": {}
        }
      ]
    }
  ]
}